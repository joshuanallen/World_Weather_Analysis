{
 "cells": [
  {
   "cell_type": "code",
   "execution_count": 1,
   "id": "f6db73b5",
   "metadata": {},
   "outputs": [],
   "source": [
    "from scipy.stats import linregress\n",
    "import matplotlib.pyplot as plt"
   ]
  },
  {
   "cell_type": "code",
   "execution_count": 3,
   "id": "6b7f0a54",
   "metadata": {},
   "outputs": [
    {
     "data": {
      "text/plain": [
       "12"
      ]
     },
     "execution_count": 3,
     "metadata": {},
     "output_type": "execute_result"
    }
   ],
   "source": [
    "temps = [18.2, 29.5, 35.9, 50.1, 58.6, 69.9, 82.1, 85.5, 73.5, 55.2, 40.3, 30.1]\n",
    "daylight = [7.6, 9.2, 12.2, 13.4, 13.9, 14.2, 13.5, 11.8, 10.9, 9.9, 8.4, 7.8]\n"
   ]
  },
  {
   "cell_type": "code",
   "execution_count": 4,
   "id": "7e79e37b",
   "metadata": {},
   "outputs": [
    {
     "data": {
      "image/png": "[encoded data removed]",
      "text/plain": [
       "<Figure size 432x288 with 1 Axes>"
      ]
     },
     "metadata": {
      "needs_background": "light"
     },
     "output_type": "display_data"
    }
   ],
   "source": [
    "plt.scatter(daylight, temps)\n",
    "plt.xlabel('Hours of Daylight')\n",
    "plt.ylabel('Average monthly temp')\n",
    "plt.show()"
   ]
  },
  {
   "cell_type": "code",
   "execution_count": 5,
   "id": "f797c227",
   "metadata": {},
   "outputs": [
    {
     "data": {
      "text/plain": [
       "LinregressResult(slope=6.15635146103896, intercept=-15.721956168831184, rvalue=0.679679805857105, pvalue=0.015035320128994748, stderr=2.100992241520654, intercept_stderr=23.765061177039463)"
      ]
     },
     "execution_count": 5,
     "metadata": {},
     "output_type": "execute_result"
    }
   ],
   "source": [
    "# Use linregress function to get description of regression using linregress(dependent_variable, independent_variable)\n",
    "linregress(daylight,temps)"
   ]
  },
  {
   "cell_type": "code",
   "execution_count": 7,
   "id": "8f6a24ca",
   "metadata": {},
   "outputs": [],
   "source": [
    "# Pull linregress() data into a tuple\n",
    "(slope, intercept, rval, pval, stderr) = linregress(daylight, temps)"
   ]
  },
  {
   "cell_type": "code",
   "execution_count": 8,
   "id": "02c9033b",
   "metadata": {},
   "outputs": [
    {
     "name": "stdout",
     "output_type": "stream",
     "text": [
      "y = 6.16x + -15.72\n"
     ]
    }
   ],
   "source": [
    "# Create linear equation\n",
    "line_eq = \"y = \" + str(round(slope,2)) + \"x + \" +str(round(intercept,2))\n",
    "print(line_eq)"
   ]
  },
  {
   "cell_type": "code",
   "execution_count": 9,
   "id": "6d1ed8f6",
   "metadata": {},
   "outputs": [
    {
     "name": "stdout",
     "output_type": "stream",
     "text": [
      "[31.06631493506491, 40.91647727272724, 59.38553165584412, 66.77315340909088, 69.85132913961036, 71.69823457792204, 67.38878855519478, 56.92299107142854, 51.38227475649347, 45.22592329545452, 35.99139610389608, 32.2975852272727]\n"
     ]
    }
   ],
   "source": [
    "# Create regression values based on \"x\" points for daylight\n",
    "regress_values = [(day * slope + intercept) for day in daylight]\n",
    "print(regress_values)"
   ]
  },
  {
   "cell_type": "code",
   "execution_count": 10,
   "id": "80db0b11",
   "metadata": {},
   "outputs": [
    {
     "data": {
      "image/png": "[encoded data removed]",
      "text/plain": [
       "<Figure size 432x288 with 1 Axes>"
      ]
     },
     "metadata": {
      "needs_background": "light"
     },
     "output_type": "display_data"
    }
   ],
   "source": [
    "plt.scatter(daylight, temps)\n",
    "plt.plot(daylight, regress_values)\n",
    "plt.xlabel('Hours of Daylight')\n",
    "plt.ylabel('Average monthly temp')\n",
    "plt.show()"
   ]
  },
  {
   "cell_type": "code",
   "execution_count": 11,
   "id": "4f73ea1b",
   "metadata": {},
   "outputs": [],
   "source": [
    "# Create an equal number of latitudes and temperatures.\n",
    "lats = [42.5, 43.9, 8.1, 36.8, 79.9, 69.1, 25.7, 15.3, 12.7, 64.5]\n",
    "temps = [80.5, 75.3, 90.9, 90.0, 40.4, 62.3, 85.4, 79.6, 72.5, 72.0]"
   ]
  },
  {
   "cell_type": "code",
   "execution_count": 12,
   "id": "a4b82104",
   "metadata": {},
   "outputs": [
    {
     "name": "stdout",
     "output_type": "stream",
     "text": [
      "y = -0.45x + 92.94\n",
      "The p-value is: 0.011\n"
     ]
    }
   ],
   "source": [
    "# Perform linear regression.\n",
    "(slope, intercept, r_value, p_value, std_err) = linregress(lats, temps)\n",
    "# Get the equation of the line.\n",
    "line_eq = \"y = \" + str(round(slope,2)) + \"x + \" + str(round(intercept,2))\n",
    "print(line_eq)\n",
    "print(f\"The p-value is: {p_value:.3f}\")"
   ]
  },
  {
   "cell_type": "markdown",
   "id": "e596bed9",
   "metadata": {},
   "source": [
    "### In the code to perform linear regression, the `linregress` function takes only two arguments, the x- and y-axes data (`lats` and `temps`) in the form of arrays. And it returns the following:\n",
    "\n",
    "- Slope of the regression line as slope\n",
    "- y-intercept as intercept\n",
    "- Correlation coefficient as r_value\n",
    "- p-value as p_value\n",
    "- Standard error as std_err\n",
    "\n",
    "The `slope`, `intercept`, `r_value`, `p_value`, and `std_err` are always returned when we run the `linregress` function. If you don't want to calculate one of these values but do not add it inside the parentheses, you'll get a `ValueError: too many values to unpack`.\n",
    "\n",
    "To prevent this error, add a comma and underscore for each value you don't want to calculate.\n",
    "\n",
    "For instance, if you don't want to print out the p-value and the standard error, write your function as `(slope, intercept, r_value, _, _) = linregress(x, y)`."
   ]
  },
  {
   "cell_type": "markdown",
   "id": "cfbbf733",
   "metadata": {},
   "source": [
    "In statistics, the p-value is used to determine significance of results. In most cases, data scientists like to use a significance level of 0.05, which means:\n",
    "\n",
    "A linear regression with a **p-value > 0.05 is not statistically significant**.\n",
    "\n",
    "A linear regression with a **p-value < 0.05 is statistically significant**.\n",
    "\n",
    "P-values can also be used to justify rejecting a null hypothesis. We will discuss p-values and hypothesis testing in more detail later in the course."
   ]
  },
  {
   "cell_type": "code",
   "execution_count": 13,
   "id": "937f5568",
   "metadata": {},
   "outputs": [],
   "source": [
    "# Calculate the regression line \"y values\" from the slope and intercept.\n",
    "regress_values = [(lat * slope + intercept) for lat in lats]"
   ]
  },
  {
   "cell_type": "code",
   "execution_count": 14,
   "id": "ef97fc1a",
   "metadata": {},
   "outputs": [
    {
     "data": {
      "image/png": "[encoded data removed]",
      "text/plain": [
       "<Figure size 432x288 with 1 Axes>"
      ]
     },
     "metadata": {
      "needs_background": "light"
     },
     "output_type": "display_data"
    }
   ],
   "source": [
    "# Import Matplotlib.\n",
    "import matplotlib.pyplot as plt\n",
    "# Create a scatter plot of the x and y values.\n",
    "plt.scatter(lats,temps)\n",
    "# Plot the regression line with the x-values and the y coordinates based on the intercept and slope.\n",
    "plt.plot(lats,regress_values,\"r\")\n",
    "# Annotate the text for the line equation and add its coordinates.\n",
    "plt.annotate(line_eq, (10,40), fontsize=15, color=\"red\")\n",
    "plt.xlabel('Latitude')\n",
    "plt.ylabel('Temp')\n",
    "plt.show()"
   ]
  },
  {
   "cell_type": "markdown",
   "id": "660c990d",
   "metadata": {},
   "source": [
    "### Let's review what this code does:\n",
    "\n",
    "- We plot the latitudes and temperatures on a scatter plot.\n",
    "- We create a line plot of our regression line with the ideal temperatures.\n",
    "- We annotate the line plot by adding the equation of our regression line, where the x-axis is 10 and the y-axis is 40, and specify the font and color.\n",
    "- We create x- and y-axes labels."
   ]
  },
  {
   "cell_type": "code",
   "execution_count": null,
   "id": "82e35ad7",
   "metadata": {},
   "outputs": [],
   "source": []
  }
 ],
 "metadata": {
  "kernelspec": {
   "display_name": "PythonData",
   "language": "python",
   "name": "pythondata"
  },
  "language_info": {
   "codemirror_mode": {
    "name": "ipython",
    "version": 3
   },
   "file_extension": ".py",
   "mimetype": "text/x-python",
   "name": "python",
   "nbconvert_exporter": "python",
   "pygments_lexer": "ipython3",
   "version": "3.8.5"
  }
 },
 "nbformat": 4,
 "nbformat_minor": 5
}
