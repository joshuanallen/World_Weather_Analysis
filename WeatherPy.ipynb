{
 "cells": [
  {
   "cell_type": "markdown",
   "metadata": {},
   "source": [
    "### Basic Project Plan\n",
    "Here's an outline of your project plan:\n",
    "\n",
    "- Task: Collect and analyze weather data across cities worldwide.\n",
    "- Purpose: PlanMyTrip will use the data to recommend ideal hotels based on clients' weather preferences.\n",
    "- Method: Create a Pandas DataFrame with 500 or more of the world's unique cities and their weather data in real time. This process will entail collecting, analyzing, and visualizing the data.\n",
    "\n",
    "Your analysis of the data will be split into three main parts, or stages.\n",
    "\n",
    "1. Collect the Data\n",
    "\n",
    "- Use the NumPy module to generate more than 1,500 random latitudes and longitudes.\n",
    "- Use the citipy module to list the nearest city to the latitudes and longitudes.\n",
    "- Use the OpenWeatherMap API to request the current weather data from each unique city in your list.\n",
    "- Parse the JSON data from the API request.\n",
    "- Collect the following data from the JSON file and add it to a DataFrame:\n",
    "    - City, country, and date\n",
    "    - Latitude and longitude\n",
    "    - Maximum temperature\n",
    "    - Humidity\n",
    "    - Cloudiness\n",
    "    - Wind speed\n",
    "\n",
    "2. Exploratory Analysis with Visualization\n",
    "\n",
    "- Create scatter plots of the weather data for the following comparisons:\n",
    "    - Latitude versus temperature\n",
    "    - Latitude versus humidity\n",
    "    - Latitude versus cloudiness\n",
    "    - Latitude versus wind speed\n",
    "- Determine the correlations for the following weather data:\n",
    "    - Latitude and temperature\n",
    "    - Latitude and humidity\n",
    "    - Latitude and cloudiness\n",
    "    - Latitude and wind speed\n",
    "- Create a series of heatmaps using the Google Maps and Places API that showcases the following:\n",
    "    - Latitude and temperature\n",
    "    - Latitude and humidity\n",
    "    - Latitude and cloudiness\n",
    "    - Latitude and wind speed\n",
    "\n",
    "3. Visualize Travel Data\n",
    "\n",
    "Create a heatmap with pop-up markers that can display information on specific cities based on a customer's travel preferences. Complete these steps:\n",
    "\n",
    "1. Filter the Pandas DataFrame based on user inputs for a minimum and maximum temperature.\n",
    "2. Create a heatmap for the new DataFrame.\n",
    "3. Find a hotel from the cities' coordinates using Google's Maps and Places API, and Search Nearby feature.\n",
    "4. Store the name of the first hotel in the DataFrame.\n",
    "5. Add pop-up markers to the heatmap that display information about the city, current maximum temperature, and a hotel in the city."
   ]
  },
  {
   "cell_type": "code",
   "execution_count": 10,
   "metadata": {},
   "outputs": [],
   "source": [
    "# Import the dependencies.\n",
    "import pandas as pd\n",
    "import matplotlib.pyplot as plt\n",
    "import numpy as np\n",
    "\n",
    "# Use the citipy module to determine city based on latitude and longitude.\n",
    "from citipy import citipy"
   ]
  },
  {
   "cell_type": "code",
   "execution_count": 11,
   "metadata": {},
   "outputs": [
    {
     "data": {
      "text/plain": [
       "<zip at 0x7f832447ce60>"
      ]
     },
     "execution_count": 11,
     "metadata": {},
     "output_type": "execute_result"
    }
   ],
   "source": [
    "# Create a set of random latitude and longitude combinations.\n",
    "lats = np.random.uniform(low=-90.000, high=90.000, size=1500)\n",
    "lngs = np.random.uniform(low=-180.000, high=180.000, size=1500)\n",
    "lat_lngs = zip(lats, lngs)\n",
    "lat_lngs"
   ]
  },
  {
   "cell_type": "code",
   "execution_count": 12,
   "metadata": {},
   "outputs": [],
   "source": [
    "# Add the latitudes and longitudes to a list.\n",
    "coordinates = list(lat_lngs)"
   ]
  },
  {
   "cell_type": "markdown",
   "metadata": {},
   "source": [
    "### create a for loop that will do the following:\n",
    "\n",
    "1. Iterate through the `coordinates`' zipped tuple.\n",
    "2. Use `citipy.nearest_city()` and inside the parentheses of `nearest_city()`, add the latitude and longitude in this format: `coordinate[0], coordinate[1]`.\n",
    "3. To print the `city name`, chain the `city_name` to the `nearest_city()` function.\n",
    "4. To print the `country name`, chain the `country_code` to the `nearest_city()` function."
   ]
  },
  {
   "cell_type": "code",
   "execution_count": 13,
   "metadata": {},
   "outputs": [
    {
     "data": {
      "text/plain": [
       "609"
      ]
     },
     "execution_count": 13,
     "metadata": {},
     "output_type": "execute_result"
    }
   ],
   "source": [
    "# Create a list for holding the cities.\n",
    "cities = []\n",
    "# Identify the nearest city for each latitude and longitude combination.\n",
    "for coordinate in coordinates:\n",
    "    city = citipy.nearest_city(coordinate[0], coordinate[1]).city_name\n",
    "\n",
    "    # If the city is unique, then we will add it to the cities list.\n",
    "    if city not in cities:\n",
    "        cities.append(city)\n",
    "# Print the city count to confirm sufficient count.\n",
    "len(cities)"
   ]
  },
  {
   "cell_type": "code",
   "execution_count": null,
   "metadata": {},
   "outputs": [],
   "source": []
  }
 ],
 "metadata": {
  "kernelspec": {
   "display_name": "Python 3",
   "language": "python",
   "name": "python3"
  },
  "language_info": {
   "codemirror_mode": {
    "name": "ipython",
    "version": 3
   },
   "file_extension": ".py",
   "mimetype": "text/x-python",
   "name": "python",
   "nbconvert_exporter": "python",
   "pygments_lexer": "ipython3",
   "version": "3.7.10"
  }
 },
 "nbformat": 4,
 "nbformat_minor": 4
}
