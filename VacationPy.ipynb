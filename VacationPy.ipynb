{
 "cells": [
  {
   "cell_type": "code",
   "execution_count": 1,
   "id": "4f7df5d5",
   "metadata": {},
   "outputs": [],
   "source": [
    "# Import the dependencies.\n",
    "import pandas as pd\n",
    "import gmaps\n",
    "import requests\n",
    "# Import the API key.\n",
    "from config import g_key"
   ]
  },
  {
   "cell_type": "markdown",
   "id": "085be35a",
   "metadata": {},
   "source": [
    "### Let's review how we will use our dependencies.\n",
    "We'll use Pandas to read our CSV file and create the locations and measurements from the DataFrame. We'll use gmaps and the API key to create heatmaps and the locations map, and we'll use the requests dependency to make a request to the Google Places JSON file. This will allow us to get hotel locations from the latitude and longitude of the city."
   ]
  },
  {
   "cell_type": "code",
   "execution_count": 2,
   "id": "9049be9a",
   "metadata": {},
   "outputs": [
    {
     "data": {
      "text/html": [
       "<div>\n",
       "<style scoped>\n",
       "    .dataframe tbody tr th:only-of-type {\n",
       "        vertical-align: middle;\n",
       "    }\n",
       "\n",
       "    .dataframe tbody tr th {\n",
       "        vertical-align: top;\n",
       "    }\n",
       "\n",
       "    .dataframe thead th {\n",
       "        text-align: right;\n",
       "    }\n",
       "</style>\n",
       "<table border=\"1\" class=\"dataframe\">\n",
       "  <thead>\n",
       "    <tr style=\"text-align: right;\">\n",
       "      <th></th>\n",
       "      <th>City_ID</th>\n",
       "      <th>City</th>\n",
       "      <th>Country</th>\n",
       "      <th>Date</th>\n",
       "      <th>Lat</th>\n",
       "      <th>Lng</th>\n",
       "      <th>Max Temp</th>\n",
       "      <th>Humidity</th>\n",
       "      <th>Cloudiness</th>\n",
       "      <th>Wind Speed</th>\n",
       "    </tr>\n",
       "  </thead>\n",
       "  <tbody>\n",
       "    <tr>\n",
       "      <th>0</th>\n",
       "      <td>0</td>\n",
       "      <td>Barrow</td>\n",
       "      <td>US</td>\n",
       "      <td>2021-04-21 18:09:42</td>\n",
       "      <td>71.2906</td>\n",
       "      <td>-156.7887</td>\n",
       "      <td>17.6</td>\n",
       "      <td>79</td>\n",
       "      <td>75</td>\n",
       "      <td>8.05</td>\n",
       "    </tr>\n",
       "    <tr>\n",
       "      <th>1</th>\n",
       "      <td>1</td>\n",
       "      <td>Punta Arenas</td>\n",
       "      <td>CL</td>\n",
       "      <td>2021-04-21 18:09:43</td>\n",
       "      <td>-53.1500</td>\n",
       "      <td>-70.9167</td>\n",
       "      <td>46.4</td>\n",
       "      <td>57</td>\n",
       "      <td>0</td>\n",
       "      <td>8.05</td>\n",
       "    </tr>\n",
       "    <tr>\n",
       "      <th>2</th>\n",
       "      <td>2</td>\n",
       "      <td>Arraial Do Cabo</td>\n",
       "      <td>BR</td>\n",
       "      <td>2021-04-21 18:09:43</td>\n",
       "      <td>-22.9661</td>\n",
       "      <td>-42.0278</td>\n",
       "      <td>78.8</td>\n",
       "      <td>78</td>\n",
       "      <td>40</td>\n",
       "      <td>14.97</td>\n",
       "    </tr>\n",
       "    <tr>\n",
       "      <th>3</th>\n",
       "      <td>3</td>\n",
       "      <td>Longyearbyen</td>\n",
       "      <td>SJ</td>\n",
       "      <td>2021-04-21 18:09:16</td>\n",
       "      <td>78.2186</td>\n",
       "      <td>15.6401</td>\n",
       "      <td>24.8</td>\n",
       "      <td>68</td>\n",
       "      <td>75</td>\n",
       "      <td>11.50</td>\n",
       "    </tr>\n",
       "    <tr>\n",
       "      <th>4</th>\n",
       "      <td>4</td>\n",
       "      <td>Clyde River</td>\n",
       "      <td>CA</td>\n",
       "      <td>2021-04-21 18:08:00</td>\n",
       "      <td>70.4692</td>\n",
       "      <td>-68.5914</td>\n",
       "      <td>10.4</td>\n",
       "      <td>92</td>\n",
       "      <td>75</td>\n",
       "      <td>11.50</td>\n",
       "    </tr>\n",
       "  </tbody>\n",
       "</table>\n",
       "</div>"
      ],
      "text/plain": [
       "   City_ID             City Country                 Date      Lat       Lng  \\\n",
       "0        0           Barrow      US  2021-04-21 18:09:42  71.2906 -156.7887   \n",
       "1        1     Punta Arenas      CL  2021-04-21 18:09:43 -53.1500  -70.9167   \n",
       "2        2  Arraial Do Cabo      BR  2021-04-21 18:09:43 -22.9661  -42.0278   \n",
       "3        3     Longyearbyen      SJ  2021-04-21 18:09:16  78.2186   15.6401   \n",
       "4        4      Clyde River      CA  2021-04-21 18:08:00  70.4692  -68.5914   \n",
       "\n",
       "   Max Temp  Humidity  Cloudiness  Wind Speed  \n",
       "0      17.6        79          75        8.05  \n",
       "1      46.4        57           0        8.05  \n",
       "2      78.8        78          40       14.97  \n",
       "3      24.8        68          75       11.50  \n",
       "4      10.4        92          75       11.50  "
      ]
     },
     "execution_count": 2,
     "metadata": {},
     "output_type": "execute_result"
    }
   ],
   "source": [
    "# Store the CSV you saved created in part one into a DataFrame.\n",
    "city_data_df = pd.read_csv(\"weather_data/cities.csv\")\n",
    "city_data_df.head()"
   ]
  },
  {
   "cell_type": "code",
   "execution_count": 3,
   "id": "e01f2272",
   "metadata": {},
   "outputs": [
    {
     "data": {
      "text/plain": [
       "City_ID         int64\n",
       "City           object\n",
       "Country        object\n",
       "Date           object\n",
       "Lat           float64\n",
       "Lng           float64\n",
       "Max Temp      float64\n",
       "Humidity        int64\n",
       "Cloudiness      int64\n",
       "Wind Speed    float64\n",
       "dtype: object"
      ]
     },
     "execution_count": 3,
     "metadata": {},
     "output_type": "execute_result"
    }
   ],
   "source": [
    "# Gmaps needs coordinates as a float or integer, so we check the DF column types\n",
    "city_data_df.dtypes"
   ]
  },
  {
   "cell_type": "code",
   "execution_count": 4,
   "id": "fb662718",
   "metadata": {},
   "outputs": [],
   "source": [
    "# Configure gmaps to use your Google API key.\n",
    "gmaps.configure(api_key=g_key)"
   ]
  },
  {
   "cell_type": "markdown",
   "id": "ced77e31",
   "metadata": {},
   "source": [
    "## Google heatmaps do not plot negative numbers. \n",
    "\n",
    "If you have a maximum temperature that is less than 0 °F, then you will get an `InvalidWeightException` error for this line of code:\n",
    "\n",
    "`heat_layer = gmaps.heatmap_layer(locations, weights=max_temp)`\n",
    "\n",
    "To remove the negative temperatures we can use a `for` loop to iterate through the `max_temp` and add the temperatures that are greater than 0 °F to a new list."
   ]
  },
  {
   "cell_type": "markdown",
   "id": "cb70bc46",
   "metadata": {},
   "source": [
    "## `For` loop option for removing temps lower than 0 and setting to 0 degrees\n",
    "\n",
    "#### Don't use"
   ]
  },
  {
   "cell_type": "code",
   "execution_count": 5,
   "id": "8cac0a16",
   "metadata": {},
   "outputs": [],
   "source": [
    "# Get the maximum temperature.\n",
    "# max_temp = city_data_df[\"Max Temp\"]\n",
    "# temps = []\n",
    "# for temp in max_temp:\n",
    "#     temps.append(max(temp, 0))"
   ]
  },
  {
   "cell_type": "markdown",
   "id": "bcb61f0d",
   "metadata": {},
   "source": [
    "### create the heatmap for the maximum temperature.\n",
    "General syntax is below:\n",
    "\n",
    "#### 1. Assign the locations to an array of latitude and longitude pairs.\n",
    "`locations = [latitude, longitude]`\n",
    "\n",
    "#### 2. Assign the weights variable to some values.\n",
    "`temperatures = # an array of length equal to the locations array length`\n",
    "\n",
    "#### 3. Assign the figure variable to the gmaps.figure() attribute.\n",
    "`fig = gmaps.figure()`\n",
    "\n",
    "#### 4. Assign the heatmap_layer variable to the heatmap_layer attribute and add in the locations.\n",
    "`heatmap_layer = gmaps.heatmap_layer(locations, weights=temperatures)`\n",
    "\n",
    "#### 5. Add the heatmap layer.\n",
    "`fig.add_layer(heatmap_layer)`\n",
    "\n",
    "#### 6. Call the figure to plot the data.\n",
    "`fig`"
   ]
  },
  {
   "cell_type": "code",
   "execution_count": 6,
   "id": "f33992b7",
   "metadata": {},
   "outputs": [],
   "source": [
    "# Heatmap of temperature\n",
    "# Get the latitude and longitude.\n",
    "# locations = city_data_df[[\"Lat\", \"Lng\"]]\n",
    "\n",
    "# Get the maximum temperature.\n",
    "# max_temp = city_data_df[\"Max Temp\"]\n",
    "\n",
    "# Assign the figure variable.\n",
    "# fig = gmaps.figure()\n",
    "\n",
    "# Assign the heatmap variable.\n",
    "# heat_layer = gmaps.heatmap_layer(locations, weights=temps)\n",
    "\n",
    "# Add the heatmap layer.\n",
    "# fig.add_layer(heat_layer)\n",
    "\n",
    "# Call the figure to plot the data.\n",
    "# fig"
   ]
  },
  {
   "cell_type": "markdown",
   "id": "4b7cf5cf",
   "metadata": {},
   "source": [
    "## Use list comprehension instead\n",
    "`heat_layer = gmaps.heatmap_layer(locations, weights=[max(temp, 0) for temp in max_temp])`"
   ]
  },
  {
   "cell_type": "code",
   "execution_count": 8,
   "id": "ce9a8c57",
   "metadata": {},
   "outputs": [
    {
     "data": {
      "application/vnd.jupyter.widget-view+json": {
       "model_id": "ae8d55786c4b4ccfba487a867dc0d53b",
       "version_major": 2,
       "version_minor": 0
      },
      "text/plain": [
       "Figure(layout=FigureLayout(height='420px'))"
      ]
     },
     "metadata": {},
     "output_type": "display_data"
    }
   ],
   "source": [
    "# Heatmap of temperature\n",
    "# Get the latitude and longitude.\n",
    "locations = city_data_df[[\"Lat\", \"Lng\"]]\n",
    "\n",
    "# Get the maximum temperature.\n",
    "max_temp = city_data_df[\"Max Temp\"]\n",
    "\n",
    "# Assign the figure variable.\n",
    "fig = gmaps.figure()\n",
    "\n",
    "# Assign the heatmap variable.\n",
    "heat_layer = gmaps.heatmap_layer(locations, weights=[max(temp, 0) for temp in max_temp])\n",
    "\n",
    "# Add the heatmap layer.\n",
    "fig.add_layer(heat_layer)\n",
    "\n",
    "# Call the figure to plot the data.\n",
    "fig"
   ]
  },
  {
   "cell_type": "markdown",
   "id": "ff1ff2bf",
   "metadata": {},
   "source": [
    "## Adjust Heatmap Zoom, Intensity, and Point Radius\n",
    "\n",
    "Using `gmaps.figure()` attribute"
   ]
  },
  {
   "cell_type": "code",
   "execution_count": 9,
   "id": "fd635256",
   "metadata": {},
   "outputs": [
    {
     "data": {
      "application/vnd.jupyter.widget-view+json": {
       "model_id": "54a9d189a2ba469b8e96e99aed5aa38a",
       "version_major": 2,
       "version_minor": 0
      },
      "text/plain": [
       "Figure(layout=FigureLayout(height='420px'))"
      ]
     },
     "metadata": {},
     "output_type": "display_data"
    }
   ],
   "source": [
    "# Heatmap of temperature\n",
    "# Get the latitude and longitude.\n",
    "locations = city_data_df[[\"Lat\", \"Lng\"]]\n",
    "\n",
    "# Get the maximum temperature.\n",
    "max_temp = city_data_df[\"Max Temp\"]\n",
    "\n",
    "# Assign the figure variable and format\n",
    "fig = gmaps.figure(center=(30.0, 31.0), zoom_level=1.5)\n",
    "\n",
    "# Assign the heatmap variable.\n",
    "heat_layer = gmaps.heatmap_layer(locations, weights=[max(temp, 0) for temp in max_temp])\n",
    "\n",
    "# Add the heatmap layer.\n",
    "fig.add_layer(heat_layer)\n",
    "\n",
    "# Call the figure to plot the data.\n",
    "fig"
   ]
  },
  {
   "cell_type": "markdown",
   "id": "9d138890",
   "metadata": {},
   "source": [
    "### Tweak gmaps.heat_layer() options\n",
    "If you review the gmaps documentation, you may notice there is a dissipation option for creating heatmaps that can be added to the `gmaps.heat_layer()` attribute.\n",
    "\n",
    "The options for this are:\n",
    "\n",
    "1. The default option for the dissipation is \"True,\" so we need to set our \"dissipation\" to \"False.\"\n",
    "2. We can add `max_intensity` to make each measurement have a better gradient variance.\n",
    "3. We can add `point_radius` to make each measurement radius larger.\n",
    "\n",
    "Also, you'll have to tweak these values until you are satisfied with the final map.\n",
    "\n",
    "Let's modify our `gmaps.heat_layer()` attribute to `heat_layer = gmaps.heatmap_layer(locations, weights=[max(temp, 0) for temp in max_temp], dissipating=False, max_intensity=300, point_radius=4)` and rerun our code."
   ]
  },
  {
   "cell_type": "markdown",
   "id": "d881fc0d",
   "metadata": {},
   "source": [
    "## Heatmap for max temperature"
   ]
  },
  {
   "cell_type": "code",
   "execution_count": 16,
   "id": "3e34b3a6",
   "metadata": {},
   "outputs": [
    {
     "data": {
      "application/vnd.jupyter.widget-view+json": {
       "model_id": "214b918abd274882bc9df2462a315183",
       "version_major": 2,
       "version_minor": 0
      },
      "text/plain": [
       "Figure(layout=FigureLayout(height='420px'))"
      ]
     },
     "metadata": {},
     "output_type": "display_data"
    }
   ],
   "source": [
    "# Heatmap of temperature\n",
    "# Get the latitude and longitude.\n",
    "locations = city_data_df[[\"Lat\", \"Lng\"]]\n",
    "\n",
    "# Get the maximum temperature.\n",
    "max_temp = city_data_df[\"Max Temp\"]\n",
    "\n",
    "# Assign the figure variable and format\n",
    "fig = gmaps.figure(center=(30.0, 31.0), zoom_level=1.5)\n",
    "\n",
    "# Assign the heatmap variable.\n",
    "# Tweak max_intensity and point_radius attributes to alter the gradient thresholds and sizes for a better looking map\n",
    "heat_layer = gmaps.heatmap_layer(locations, weights=[max(temp, 0) for temp in max_temp], dissipating=False, max_intensity=170, point_radius=3)\n",
    "\n",
    "# Add the heatmap layer.\n",
    "fig.add_layer(heat_layer)\n",
    "\n",
    "# Call the figure to plot the data.\n",
    "fig"
   ]
  },
  {
   "cell_type": "markdown",
   "id": "a50770d6",
   "metadata": {},
   "source": [
    "## Heatmap for percent HUmidity"
   ]
  },
  {
   "cell_type": "code",
   "execution_count": 23,
   "id": "e00e20e1",
   "metadata": {},
   "outputs": [
    {
     "data": {
      "application/vnd.jupyter.widget-view+json": {
       "model_id": "03e09dad32394faa9bbf0dc50932f0fd",
       "version_major": 2,
       "version_minor": 0
      },
      "text/plain": [
       "Figure(layout=FigureLayout(height='420px'))"
      ]
     },
     "metadata": {},
     "output_type": "display_data"
    }
   ],
   "source": [
    "# Heatmap of percent humidity\n",
    "locations = city_data_df[[\"Lat\", \"Lng\"]]\n",
    "humidity = city_data_df[\"Humidity\"]\n",
    "fig = gmaps.figure(center=(30.0, 31.0), zoom_level=1.5)\n",
    "heat_layer = gmaps.heatmap_layer(locations, weights=humidity, dissipating=False, max_intensity=300, point_radius=4)\n",
    "\n",
    "fig.add_layer(heat_layer)\n",
    "# Call the figure to plot the data.\n",
    "fig"
   ]
  },
  {
   "cell_type": "markdown",
   "id": "20ee82f1",
   "metadata": {},
   "source": [
    "## Heatmap for percent cloudiness"
   ]
  },
  {
   "cell_type": "code",
   "execution_count": 26,
   "id": "bcdcdd5b",
   "metadata": {},
   "outputs": [
    {
     "data": {
      "application/vnd.jupyter.widget-view+json": {
       "model_id": "a9cfefe0c0b84c85a1298a0b33cbcaa1",
       "version_major": 2,
       "version_minor": 0
      },
      "text/plain": [
       "Figure(layout=FigureLayout(height='420px'))"
      ]
     },
     "metadata": {},
     "output_type": "display_data"
    }
   ],
   "source": [
    "# Heatmap of percent cloudiness\n",
    "locations = city_data_df[[\"Lat\", \"Lng\"]]\n",
    "clouds = city_data_df[\"Cloudiness\"]\n",
    "fig = gmaps.figure(center=(30.0, 31.0), zoom_level=1.5)\n",
    "heat_layer = gmaps.heatmap_layer(locations, weights=clouds, dissipating=False, max_intensity=200, point_radius=3)\n",
    "\n",
    "fig.add_layer(heat_layer)\n",
    "# Call the figure to plot the data.\n",
    "fig"
   ]
  },
  {
   "cell_type": "markdown",
   "id": "486f06bd",
   "metadata": {},
   "source": [
    "## Heatmap for wind speed"
   ]
  },
  {
   "cell_type": "code",
   "execution_count": 32,
   "id": "a4baf40c",
   "metadata": {},
   "outputs": [
    {
     "data": {
      "application/vnd.jupyter.widget-view+json": {
       "model_id": "73125ab222ce412ca462beca5df364a9",
       "version_major": 2,
       "version_minor": 0
      },
      "text/plain": [
       "Figure(layout=FigureLayout(height='420px'))"
      ]
     },
     "metadata": {},
     "output_type": "display_data"
    }
   ],
   "source": [
    "# Heatmap of wind speed\n",
    "locations = city_data_df[[\"Lat\", \"Lng\"]]\n",
    "wind = city_data_df[\"Wind Speed\"]\n",
    "fig = gmaps.figure(center=(30.0, 31.0), zoom_level=1.5)\n",
    "heat_layer = gmaps.heatmap_layer(locations, weights=wind, dissipating=False, max_intensity=40, point_radius=3)\n",
    "\n",
    "fig.add_layer(heat_layer)\n",
    "# Call the figure to plot the data.\n",
    "fig"
   ]
  },
  {
   "cell_type": "markdown",
   "id": "b609aa92",
   "metadata": {},
   "source": [
    "## Create user input prompt for Temperature preferences"
   ]
  },
  {
   "cell_type": "code",
   "execution_count": 33,
   "id": "ed9d208e",
   "metadata": {},
   "outputs": [
    {
     "name": "stdout",
     "output_type": "stream",
     "text": [
      "What is the minimum temperature you would like for your trip? 75\n",
      "What is the maximum temperature you would like for your trip? 90\n"
     ]
    }
   ],
   "source": [
    "# Ask the customer to add a minimum and maximum temperature value.\n",
    "min_temp = float(input(\"What is the minimum temperature you would like for your trip? \"))\n",
    "max_temp = float(input(\"What is the maximum temperature you would like for your trip? \"))"
   ]
  },
  {
   "cell_type": "markdown",
   "id": "96acc4f6",
   "metadata": {},
   "source": [
    "## Filter dataset based on user inputs"
   ]
  },
  {
   "cell_type": "code",
   "execution_count": 43,
   "id": "f701fd85",
   "metadata": {},
   "outputs": [
    {
     "data": {
      "text/html": [
       "<div>\n",
       "<style scoped>\n",
       "    .dataframe tbody tr th:only-of-type {\n",
       "        vertical-align: middle;\n",
       "    }\n",
       "\n",
       "    .dataframe tbody tr th {\n",
       "        vertical-align: top;\n",
       "    }\n",
       "\n",
       "    .dataframe thead th {\n",
       "        text-align: right;\n",
       "    }\n",
       "</style>\n",
       "<table border=\"1\" class=\"dataframe\">\n",
       "  <thead>\n",
       "    <tr style=\"text-align: right;\">\n",
       "      <th></th>\n",
       "      <th>City_ID</th>\n",
       "      <th>City</th>\n",
       "      <th>Country</th>\n",
       "      <th>Date</th>\n",
       "      <th>Lat</th>\n",
       "      <th>Lng</th>\n",
       "      <th>Max Temp</th>\n",
       "      <th>Humidity</th>\n",
       "      <th>Cloudiness</th>\n",
       "      <th>Wind Speed</th>\n",
       "    </tr>\n",
       "  </thead>\n",
       "  <tbody>\n",
       "    <tr>\n",
       "      <th>2</th>\n",
       "      <td>2</td>\n",
       "      <td>Arraial Do Cabo</td>\n",
       "      <td>BR</td>\n",
       "      <td>2021-04-21 18:09:43</td>\n",
       "      <td>-22.9661</td>\n",
       "      <td>-42.0278</td>\n",
       "      <td>78.80</td>\n",
       "      <td>78</td>\n",
       "      <td>40</td>\n",
       "      <td>14.97</td>\n",
       "    </tr>\n",
       "    <tr>\n",
       "      <th>6</th>\n",
       "      <td>6</td>\n",
       "      <td>Mawlaik</td>\n",
       "      <td>MM</td>\n",
       "      <td>2021-04-21 18:09:44</td>\n",
       "      <td>23.6333</td>\n",
       "      <td>94.4167</td>\n",
       "      <td>76.05</td>\n",
       "      <td>33</td>\n",
       "      <td>0</td>\n",
       "      <td>1.07</td>\n",
       "    </tr>\n",
       "    <tr>\n",
       "      <th>10</th>\n",
       "      <td>10</td>\n",
       "      <td>Bombay</td>\n",
       "      <td>IN</td>\n",
       "      <td>2021-04-21 18:06:54</td>\n",
       "      <td>19.0144</td>\n",
       "      <td>72.8479</td>\n",
       "      <td>84.20</td>\n",
       "      <td>79</td>\n",
       "      <td>99</td>\n",
       "      <td>4.61</td>\n",
       "    </tr>\n",
       "    <tr>\n",
       "      <th>12</th>\n",
       "      <td>12</td>\n",
       "      <td>Lorengau</td>\n",
       "      <td>PG</td>\n",
       "      <td>2021-04-21 18:09:46</td>\n",
       "      <td>-2.0226</td>\n",
       "      <td>147.2712</td>\n",
       "      <td>81.91</td>\n",
       "      <td>80</td>\n",
       "      <td>98</td>\n",
       "      <td>7.40</td>\n",
       "    </tr>\n",
       "    <tr>\n",
       "      <th>15</th>\n",
       "      <td>15</td>\n",
       "      <td>Kieta</td>\n",
       "      <td>PG</td>\n",
       "      <td>2021-04-21 18:09:47</td>\n",
       "      <td>-6.2167</td>\n",
       "      <td>155.6333</td>\n",
       "      <td>78.69</td>\n",
       "      <td>82</td>\n",
       "      <td>78</td>\n",
       "      <td>1.48</td>\n",
       "    </tr>\n",
       "    <tr>\n",
       "      <th>16</th>\n",
       "      <td>16</td>\n",
       "      <td>Karratha</td>\n",
       "      <td>AU</td>\n",
       "      <td>2021-04-21 18:09:47</td>\n",
       "      <td>-20.7377</td>\n",
       "      <td>116.8463</td>\n",
       "      <td>78.31</td>\n",
       "      <td>52</td>\n",
       "      <td>1</td>\n",
       "      <td>8.55</td>\n",
       "    </tr>\n",
       "    <tr>\n",
       "      <th>18</th>\n",
       "      <td>18</td>\n",
       "      <td>Avarua</td>\n",
       "      <td>CK</td>\n",
       "      <td>2021-04-21 18:09:39</td>\n",
       "      <td>-21.2078</td>\n",
       "      <td>-159.7750</td>\n",
       "      <td>77.00</td>\n",
       "      <td>78</td>\n",
       "      <td>40</td>\n",
       "      <td>11.50</td>\n",
       "    </tr>\n",
       "    <tr>\n",
       "      <th>22</th>\n",
       "      <td>22</td>\n",
       "      <td>Kattivakkam</td>\n",
       "      <td>IN</td>\n",
       "      <td>2021-04-21 18:09:49</td>\n",
       "      <td>13.2167</td>\n",
       "      <td>80.3167</td>\n",
       "      <td>82.40</td>\n",
       "      <td>83</td>\n",
       "      <td>20</td>\n",
       "      <td>8.05</td>\n",
       "    </tr>\n",
       "    <tr>\n",
       "      <th>23</th>\n",
       "      <td>23</td>\n",
       "      <td>Rikitea</td>\n",
       "      <td>PF</td>\n",
       "      <td>2021-04-21 18:09:27</td>\n",
       "      <td>-23.1203</td>\n",
       "      <td>-134.9692</td>\n",
       "      <td>77.99</td>\n",
       "      <td>71</td>\n",
       "      <td>40</td>\n",
       "      <td>9.89</td>\n",
       "    </tr>\n",
       "    <tr>\n",
       "      <th>30</th>\n",
       "      <td>30</td>\n",
       "      <td>Eyl</td>\n",
       "      <td>SO</td>\n",
       "      <td>2021-04-21 18:09:40</td>\n",
       "      <td>7.9803</td>\n",
       "      <td>49.8164</td>\n",
       "      <td>83.37</td>\n",
       "      <td>74</td>\n",
       "      <td>60</td>\n",
       "      <td>8.97</td>\n",
       "    </tr>\n",
       "  </tbody>\n",
       "</table>\n",
       "</div>"
      ],
      "text/plain": [
       "    City_ID             City Country                 Date      Lat       Lng  \\\n",
       "2         2  Arraial Do Cabo      BR  2021-04-21 18:09:43 -22.9661  -42.0278   \n",
       "6         6          Mawlaik      MM  2021-04-21 18:09:44  23.6333   94.4167   \n",
       "10       10           Bombay      IN  2021-04-21 18:06:54  19.0144   72.8479   \n",
       "12       12         Lorengau      PG  2021-04-21 18:09:46  -2.0226  147.2712   \n",
       "15       15            Kieta      PG  2021-04-21 18:09:47  -6.2167  155.6333   \n",
       "16       16         Karratha      AU  2021-04-21 18:09:47 -20.7377  116.8463   \n",
       "18       18           Avarua      CK  2021-04-21 18:09:39 -21.2078 -159.7750   \n",
       "22       22      Kattivakkam      IN  2021-04-21 18:09:49  13.2167   80.3167   \n",
       "23       23          Rikitea      PF  2021-04-21 18:09:27 -23.1203 -134.9692   \n",
       "30       30              Eyl      SO  2021-04-21 18:09:40   7.9803   49.8164   \n",
       "\n",
       "    Max Temp  Humidity  Cloudiness  Wind Speed  \n",
       "2      78.80        78          40       14.97  \n",
       "6      76.05        33           0        1.07  \n",
       "10     84.20        79          99        4.61  \n",
       "12     81.91        80          98        7.40  \n",
       "15     78.69        82          78        1.48  \n",
       "16     78.31        52           1        8.55  \n",
       "18     77.00        78          40       11.50  \n",
       "22     82.40        83          20        8.05  \n",
       "23     77.99        71          40        9.89  \n",
       "30     83.37        74          60        8.97  "
      ]
     },
     "execution_count": 43,
     "metadata": {},
     "output_type": "execute_result"
    }
   ],
   "source": [
    "# Filter the dataset to find the cities that fit the criteria.\n",
    "preferred_cities_df = city_data_df.loc[(city_data_df[\"Max Temp\"] <= max_temp) & \\\n",
    "                                       (city_data_df[\"Max Temp\"] >= min_temp)]\n",
    "preferred_cities_df.head(10)"
   ]
  },
  {
   "cell_type": "code",
   "execution_count": 44,
   "id": "3accb224",
   "metadata": {},
   "outputs": [
    {
     "data": {
      "text/plain": [
       "City_ID       0\n",
       "City          0\n",
       "Country       2\n",
       "Date          0\n",
       "Lat           0\n",
       "Lng           0\n",
       "Max Temp      0\n",
       "Humidity      0\n",
       "Cloudiness    0\n",
       "Wind Speed    0\n",
       "dtype: int64"
      ]
     },
     "execution_count": 44,
     "metadata": {},
     "output_type": "execute_result"
    }
   ],
   "source": [
    "# Check to see if new preferred_cities_df has any null values\n",
    "preferred_cities_df.isnull().sum()"
   ]
  },
  {
   "cell_type": "markdown",
   "id": "8274d338",
   "metadata": {},
   "source": [
    "### Shows country column has null values\n",
    "\n",
    "so we remove values using df.dropna() function"
   ]
  },
  {
   "cell_type": "code",
   "execution_count": 45,
   "id": "ac10ce77",
   "metadata": {},
   "outputs": [],
   "source": [
    "preferred_cities_df = preferred_cities_df.dropna()"
   ]
  },
  {
   "cell_type": "code",
   "execution_count": 46,
   "id": "9a7228c9",
   "metadata": {},
   "outputs": [
    {
     "data": {
      "text/plain": [
       "City_ID       180\n",
       "City          180\n",
       "Country       180\n",
       "Date          180\n",
       "Lat           180\n",
       "Lng           180\n",
       "Max Temp      180\n",
       "Humidity      180\n",
       "Cloudiness    180\n",
       "Wind Speed    180\n",
       "dtype: int64"
      ]
     },
     "execution_count": 46,
     "metadata": {},
     "output_type": "execute_result"
    }
   ],
   "source": [
    "# Confirm no null values\n",
    "preferred_cities_df.count()"
   ]
  },
  {
   "cell_type": "markdown",
   "id": "b2be18db",
   "metadata": {},
   "source": [
    "## Get Travel Destinations\n",
    "Pull in hotel info into new DF\n",
    "\n",
    "Don't add the hotel information to the `preferred_cities_df` DataFrame because this DataFrame is our filtered DataFrame, and the customer will always filter it for each trip. We'll need to create a new DataFrame specifically for the data needed to create a heatmap and pop-up markers.\n",
    "\n",
    "Make a copy of the `preferred_cities_df` DataFrame and name it `hotel_df`. For the `hotel_df`, keep the columns **\"City,\" \"Country,\" \"Max Temp,\" \"Lat,\" and \"Lng.\"** Add a new column to the `hotel_df` DataFrame to hold the name of the hotel."
   ]
  },
  {
   "cell_type": "code",
   "execution_count": 47,
   "id": "004fea7e",
   "metadata": {},
   "outputs": [
    {
     "data": {
      "text/html": [
       "<div>\n",
       "<style scoped>\n",
       "    .dataframe tbody tr th:only-of-type {\n",
       "        vertical-align: middle;\n",
       "    }\n",
       "\n",
       "    .dataframe tbody tr th {\n",
       "        vertical-align: top;\n",
       "    }\n",
       "\n",
       "    .dataframe thead th {\n",
       "        text-align: right;\n",
       "    }\n",
       "</style>\n",
       "<table border=\"1\" class=\"dataframe\">\n",
       "  <thead>\n",
       "    <tr style=\"text-align: right;\">\n",
       "      <th></th>\n",
       "      <th>City</th>\n",
       "      <th>Country</th>\n",
       "      <th>Max Temp</th>\n",
       "      <th>Lat</th>\n",
       "      <th>Lng</th>\n",
       "      <th>Hotel Name</th>\n",
       "    </tr>\n",
       "  </thead>\n",
       "  <tbody>\n",
       "    <tr>\n",
       "      <th>2</th>\n",
       "      <td>Arraial Do Cabo</td>\n",
       "      <td>BR</td>\n",
       "      <td>78.80</td>\n",
       "      <td>-22.9661</td>\n",
       "      <td>-42.0278</td>\n",
       "      <td></td>\n",
       "    </tr>\n",
       "    <tr>\n",
       "      <th>6</th>\n",
       "      <td>Mawlaik</td>\n",
       "      <td>MM</td>\n",
       "      <td>76.05</td>\n",
       "      <td>23.6333</td>\n",
       "      <td>94.4167</td>\n",
       "      <td></td>\n",
       "    </tr>\n",
       "    <tr>\n",
       "      <th>10</th>\n",
       "      <td>Bombay</td>\n",
       "      <td>IN</td>\n",
       "      <td>84.20</td>\n",
       "      <td>19.0144</td>\n",
       "      <td>72.8479</td>\n",
       "      <td></td>\n",
       "    </tr>\n",
       "    <tr>\n",
       "      <th>12</th>\n",
       "      <td>Lorengau</td>\n",
       "      <td>PG</td>\n",
       "      <td>81.91</td>\n",
       "      <td>-2.0226</td>\n",
       "      <td>147.2712</td>\n",
       "      <td></td>\n",
       "    </tr>\n",
       "    <tr>\n",
       "      <th>15</th>\n",
       "      <td>Kieta</td>\n",
       "      <td>PG</td>\n",
       "      <td>78.69</td>\n",
       "      <td>-6.2167</td>\n",
       "      <td>155.6333</td>\n",
       "      <td></td>\n",
       "    </tr>\n",
       "    <tr>\n",
       "      <th>16</th>\n",
       "      <td>Karratha</td>\n",
       "      <td>AU</td>\n",
       "      <td>78.31</td>\n",
       "      <td>-20.7377</td>\n",
       "      <td>116.8463</td>\n",
       "      <td></td>\n",
       "    </tr>\n",
       "    <tr>\n",
       "      <th>18</th>\n",
       "      <td>Avarua</td>\n",
       "      <td>CK</td>\n",
       "      <td>77.00</td>\n",
       "      <td>-21.2078</td>\n",
       "      <td>-159.7750</td>\n",
       "      <td></td>\n",
       "    </tr>\n",
       "    <tr>\n",
       "      <th>22</th>\n",
       "      <td>Kattivakkam</td>\n",
       "      <td>IN</td>\n",
       "      <td>82.40</td>\n",
       "      <td>13.2167</td>\n",
       "      <td>80.3167</td>\n",
       "      <td></td>\n",
       "    </tr>\n",
       "    <tr>\n",
       "      <th>23</th>\n",
       "      <td>Rikitea</td>\n",
       "      <td>PF</td>\n",
       "      <td>77.99</td>\n",
       "      <td>-23.1203</td>\n",
       "      <td>-134.9692</td>\n",
       "      <td></td>\n",
       "    </tr>\n",
       "    <tr>\n",
       "      <th>30</th>\n",
       "      <td>Eyl</td>\n",
       "      <td>SO</td>\n",
       "      <td>83.37</td>\n",
       "      <td>7.9803</td>\n",
       "      <td>49.8164</td>\n",
       "      <td></td>\n",
       "    </tr>\n",
       "  </tbody>\n",
       "</table>\n",
       "</div>"
      ],
      "text/plain": [
       "               City Country  Max Temp      Lat       Lng Hotel Name\n",
       "2   Arraial Do Cabo      BR     78.80 -22.9661  -42.0278           \n",
       "6           Mawlaik      MM     76.05  23.6333   94.4167           \n",
       "10           Bombay      IN     84.20  19.0144   72.8479           \n",
       "12         Lorengau      PG     81.91  -2.0226  147.2712           \n",
       "15            Kieta      PG     78.69  -6.2167  155.6333           \n",
       "16         Karratha      AU     78.31 -20.7377  116.8463           \n",
       "18           Avarua      CK     77.00 -21.2078 -159.7750           \n",
       "22      Kattivakkam      IN     82.40  13.2167   80.3167           \n",
       "23          Rikitea      PF     77.99 -23.1203 -134.9692           \n",
       "30              Eyl      SO     83.37   7.9803   49.8164           "
      ]
     },
     "execution_count": 47,
     "metadata": {},
     "output_type": "execute_result"
    }
   ],
   "source": [
    "# Create DataFrame called hotel_df to store hotel names along with city, country, max temp, and coordinates.\n",
    "hotel_df = preferred_cities_df[[\"City\", \"Country\", \"Max Temp\", \"Lat\", \"Lng\"]].copy()\n",
    "\n",
    "# Create column to populate hotel names from coordinates data\n",
    "hotel_df[\"Hotel Name\"] = \"\"\n",
    "hotel_df.head(10)"
   ]
  },
  {
   "cell_type": "markdown",
   "id": "a3fcbf5e",
   "metadata": {},
   "source": [
    "### Retrieve Hotels from a Nearby Search\n",
    "\n",
    "#### Set the Parameters for a Nearby Search\n",
    "https://developers.google.com/maps/documentation/places/web-service/search#PlaceSearchRequests%0D%0A\n",
    "\n",
    "The Nearby Search request lets us perform these tasks:\n",
    "\n",
    "1. Search for places within a specified area.\n",
    "2. Refine the search using keywords and specifying the type of place we are searching for.\n",
    "3. Use an API URL, where the output can be either XML or JSON format.\n",
    "\n",
    "To pull info we'll add a specified area and keyword to search by providing specific parameters\n",
    "\n",
    "Specific parameters include:\n",
    "\n",
    "1. Our API key\n",
    "2. A location, which will be the latitude and longitude\n",
    "3. A radius for the search. The radius can be up to 50,000 meters or approximately 31 miles. This distance is much too great for finding hotels, so we'll keep our search to 5,000 meters.\n",
    "4. If we use the `rankby=distance` for a parameter, we need to add one or more of the three parameters above. We won't use the `rankby=distance` because we will be search based on the radius from a given latitude and longitude.\n",
    "\n",
    "\n",
    "For our hotel search, we'll use these parameters:\n",
    "\n",
    "1. API key\n",
    "2. Latitude and longitude\n",
    "3. 5,000-meter radius\n",
    "4. Type of place: https://developers.google.com/places/web-service/supported_types\n",
    "\n",
    "On the webpage, Table 1 shows all the different Place types values. \"Hotel\" does not appear, but \"lodging\" does, so we will use the string \"lodging\" for the type parameter.\n",
    "\n",
    "We can use the same format to make a request with the Google Places API. The following base URL is provided to retrieve the JSON format of the data:\n",
    "\n",
    "https://maps.googleapis.com/maps/api/place/nearbysearch/json\n",
    "\n",
    "#### Using requests.get() using parameters in the URL\n",
    "\n",
    "We can add the parameters as a dictionary of strings, using the `params` keyword argument `requests.get('base URL', params=parameters)`\n",
    "\n",
    "### Iterate Through hotel_df DataFrame\n",
    "We can use the `iterrows()` function to perform the iteration; however, we need to provide the `index` and the `row` in the `for` loop using this syntax: `for index, row in df.iterrows()`.\n",
    "\n",
    "\n",
    "#### Need to add try-except block, so any location point not close enough to a \"hotel\" doesn't cause an error\n",
    "Because we ended up with a `IndexError` we have to create an exceptoion for that specific error and any others that apply."
   ]
  },
  {
   "cell_type": "code",
   "execution_count": 52,
   "id": "b8398be1",
   "metadata": {},
   "outputs": [
    {
     "name": "stdout",
     "output_type": "stream",
     "text": [
      "Hotel not found... skipping.\n",
      "Hotel not found... skipping.\n",
      "Hotel not found... skipping.\n",
      "Hotel not found... skipping.\n",
      "Hotel not found... skipping.\n",
      "Hotel not found... skipping.\n",
      "Hotel not found... skipping.\n",
      "Hotel not found... skipping.\n",
      "Hotel not found... skipping.\n",
      "-----------------------------\n",
      "Data Retrieval Complete      \n",
      "-----------------------------\n"
     ]
    }
   ],
   "source": [
    "# Set parameters to search for a hotel.\n",
    "params = {\n",
    "    \"radius\": 5000,\n",
    "    \"type\": \"lodging\",\n",
    "    \"key\": g_key\n",
    "}\n",
    "\n",
    "# Iterate through the DataFrame.\n",
    "for index, row in hotel_df.iterrows():\n",
    "    # Get the latitude and longitude.\n",
    "    lat = row[\"Lat\"]\n",
    "    lng = row[\"Lng\"]\n",
    "\n",
    "    # Add the latitude and longitude to location key for the params dictionary.\n",
    "    params[\"location\"] = f\"{lat},{lng}\"\n",
    "\n",
    "    # Use the search term: \"lodging\" and our latitude and longitude.\n",
    "    base_url = \"https://maps.googleapis.com/maps/api/place/nearbysearch/json\"\n",
    "    # Make request and get the JSON data from the search.\n",
    "    hotels = requests.get(base_url, params=params).json()\n",
    "    \n",
    "    # Grab the first hotel from the results and store the name.\n",
    "    ### NOT NEEDED WITH TRY/EXCEPT BELOW\n",
    "    # hotel_df.loc[index, \"Hotel Name\"] = hotels[\"results\"][0][\"name\"]\n",
    "    \n",
    "    # Grab the first hotel from the results and store the name.\n",
    "    try:\n",
    "        hotel_df.loc[index, \"Hotel Name\"] = hotels[\"results\"][0][\"name\"]\n",
    "        \n",
    "    except (IndexError):\n",
    "        print(\"Hotel not found... skipping.\")\n",
    "        \n",
    "        \n",
    "# Indicate that Data Loading is complete.\n",
    "print(\"-----------------------------\")\n",
    "print(\"Data Retrieval Complete      \")\n",
    "print(\"-----------------------------\")"
   ]
  },
  {
   "cell_type": "code",
   "execution_count": 53,
   "id": "a2437920",
   "metadata": {},
   "outputs": [
    {
     "data": {
      "text/html": [
       "<div>\n",
       "<style scoped>\n",
       "    .dataframe tbody tr th:only-of-type {\n",
       "        vertical-align: middle;\n",
       "    }\n",
       "\n",
       "    .dataframe tbody tr th {\n",
       "        vertical-align: top;\n",
       "    }\n",
       "\n",
       "    .dataframe thead th {\n",
       "        text-align: right;\n",
       "    }\n",
       "</style>\n",
       "<table border=\"1\" class=\"dataframe\">\n",
       "  <thead>\n",
       "    <tr style=\"text-align: right;\">\n",
       "      <th></th>\n",
       "      <th>City</th>\n",
       "      <th>Country</th>\n",
       "      <th>Max Temp</th>\n",
       "      <th>Lat</th>\n",
       "      <th>Lng</th>\n",
       "      <th>Hotel Name</th>\n",
       "    </tr>\n",
       "  </thead>\n",
       "  <tbody>\n",
       "    <tr>\n",
       "      <th>2</th>\n",
       "      <td>Arraial Do Cabo</td>\n",
       "      <td>BR</td>\n",
       "      <td>78.80</td>\n",
       "      <td>-22.9661</td>\n",
       "      <td>-42.0278</td>\n",
       "      <td>Pousada Porto Praia</td>\n",
       "    </tr>\n",
       "    <tr>\n",
       "      <th>6</th>\n",
       "      <td>Mawlaik</td>\n",
       "      <td>MM</td>\n",
       "      <td>76.05</td>\n",
       "      <td>23.6333</td>\n",
       "      <td>94.4167</td>\n",
       "      <td>AKZ Guest House</td>\n",
       "    </tr>\n",
       "    <tr>\n",
       "      <th>10</th>\n",
       "      <td>Bombay</td>\n",
       "      <td>IN</td>\n",
       "      <td>84.20</td>\n",
       "      <td>19.0144</td>\n",
       "      <td>72.8479</td>\n",
       "      <td>Hotel Avon Ruby-Dadar</td>\n",
       "    </tr>\n",
       "    <tr>\n",
       "      <th>12</th>\n",
       "      <td>Lorengau</td>\n",
       "      <td>PG</td>\n",
       "      <td>81.91</td>\n",
       "      <td>-2.0226</td>\n",
       "      <td>147.2712</td>\n",
       "      <td>Lorengau Harbourside Hotel</td>\n",
       "    </tr>\n",
       "    <tr>\n",
       "      <th>15</th>\n",
       "      <td>Kieta</td>\n",
       "      <td>PG</td>\n",
       "      <td>78.69</td>\n",
       "      <td>-6.2167</td>\n",
       "      <td>155.6333</td>\n",
       "      <td>Uruna Bay Retreat</td>\n",
       "    </tr>\n",
       "    <tr>\n",
       "      <th>16</th>\n",
       "      <td>Karratha</td>\n",
       "      <td>AU</td>\n",
       "      <td>78.31</td>\n",
       "      <td>-20.7377</td>\n",
       "      <td>116.8463</td>\n",
       "      <td>ibis Styles Karratha</td>\n",
       "    </tr>\n",
       "    <tr>\n",
       "      <th>18</th>\n",
       "      <td>Avarua</td>\n",
       "      <td>CK</td>\n",
       "      <td>77.00</td>\n",
       "      <td>-21.2078</td>\n",
       "      <td>-159.7750</td>\n",
       "      <td>Paradise Inn</td>\n",
       "    </tr>\n",
       "    <tr>\n",
       "      <th>22</th>\n",
       "      <td>Kattivakkam</td>\n",
       "      <td>IN</td>\n",
       "      <td>82.40</td>\n",
       "      <td>13.2167</td>\n",
       "      <td>80.3167</td>\n",
       "      <td>Raj's villa</td>\n",
       "    </tr>\n",
       "    <tr>\n",
       "      <th>23</th>\n",
       "      <td>Rikitea</td>\n",
       "      <td>PF</td>\n",
       "      <td>77.99</td>\n",
       "      <td>-23.1203</td>\n",
       "      <td>-134.9692</td>\n",
       "      <td>Pension Maro'i</td>\n",
       "    </tr>\n",
       "    <tr>\n",
       "      <th>30</th>\n",
       "      <td>Eyl</td>\n",
       "      <td>SO</td>\n",
       "      <td>83.37</td>\n",
       "      <td>7.9803</td>\n",
       "      <td>49.8164</td>\n",
       "      <td>Amiin Hotel</td>\n",
       "    </tr>\n",
       "  </tbody>\n",
       "</table>\n",
       "</div>"
      ],
      "text/plain": [
       "               City Country  Max Temp      Lat       Lng  \\\n",
       "2   Arraial Do Cabo      BR     78.80 -22.9661  -42.0278   \n",
       "6           Mawlaik      MM     76.05  23.6333   94.4167   \n",
       "10           Bombay      IN     84.20  19.0144   72.8479   \n",
       "12         Lorengau      PG     81.91  -2.0226  147.2712   \n",
       "15            Kieta      PG     78.69  -6.2167  155.6333   \n",
       "16         Karratha      AU     78.31 -20.7377  116.8463   \n",
       "18           Avarua      CK     77.00 -21.2078 -159.7750   \n",
       "22      Kattivakkam      IN     82.40  13.2167   80.3167   \n",
       "23          Rikitea      PF     77.99 -23.1203 -134.9692   \n",
       "30              Eyl      SO     83.37   7.9803   49.8164   \n",
       "\n",
       "                    Hotel Name  \n",
       "2          Pousada Porto Praia  \n",
       "6              AKZ Guest House  \n",
       "10       Hotel Avon Ruby-Dadar  \n",
       "12  Lorengau Harbourside Hotel  \n",
       "15           Uruna Bay Retreat  \n",
       "16        ibis Styles Karratha  \n",
       "18                Paradise Inn  \n",
       "22                 Raj's villa  \n",
       "23              Pension Maro'i  \n",
       "30                 Amiin Hotel  "
      ]
     },
     "execution_count": 53,
     "metadata": {},
     "output_type": "execute_result"
    }
   ],
   "source": [
    "# Check hotel_df for populated data\n",
    "hotel_df.head(10)"
   ]
  },
  {
   "cell_type": "markdown",
   "id": "cf7e832e",
   "metadata": {},
   "source": [
    "## Create a Maximum Temperature Heatmap from a Hotel DataFrame"
   ]
  },
  {
   "cell_type": "markdown",
   "id": "4b8623ab",
   "metadata": {},
   "source": [
    "### Using `weights = max_temp`"
   ]
  },
  {
   "cell_type": "code",
   "execution_count": 60,
   "id": "5992f8a3",
   "metadata": {},
   "outputs": [
    {
     "data": {
      "application/vnd.jupyter.widget-view+json": {
       "model_id": "7a123dae31de439ebdcfbc59b50344ac",
       "version_major": 2,
       "version_minor": 0
      },
      "text/plain": [
       "Figure(layout=FigureLayout(height='420px'))"
      ]
     },
     "metadata": {},
     "output_type": "display_data"
    }
   ],
   "source": [
    "# Add a heatmap of temperature for the vacation spots.\n",
    "locations = hotel_df[[\"Lat\", \"Lng\"]]\n",
    "max_temp = hotel_df[\"Max Temp\"]\n",
    "fig = gmaps.figure(center=(30.0, 31.0), zoom_level=1.5)\n",
    "heat_layer = gmaps.heatmap_layer(locations, weights=max_temp, dissipating=False,\n",
    "             max_intensity=300, point_radius=4)\n",
    "\n",
    "fig.add_layer(heat_layer)\n",
    "# Call the figure to plot the data.\n",
    "fig"
   ]
  },
  {
   "cell_type": "markdown",
   "id": "176774f1",
   "metadata": {},
   "source": [
    "### Using `weights = [max(temp, 0) for temp in max_temp]` list comprehension verison"
   ]
  },
  {
   "cell_type": "code",
   "execution_count": 61,
   "id": "ab36885a",
   "metadata": {},
   "outputs": [
    {
     "data": {
      "application/vnd.jupyter.widget-view+json": {
       "model_id": "acf6d32ad25b4cd89f752b5cb402a831",
       "version_major": 2,
       "version_minor": 0
      },
      "text/plain": [
       "Figure(layout=FigureLayout(height='420px'))"
      ]
     },
     "metadata": {},
     "output_type": "display_data"
    }
   ],
   "source": [
    "# Add a heatmap of temperature for the vacation spots.\n",
    "locations = hotel_df[[\"Lat\", \"Lng\"]]\n",
    "max_temp = hotel_df[\"Max Temp\"]\n",
    "fig = gmaps.figure(center=(30.0, 31.0), zoom_level=1.5)\n",
    "heat_layer = gmaps.heatmap_layer(locations, weights=[max(temp, 0) for temp in max_temp], dissipating=False,\n",
    "             max_intensity=300, point_radius=4)\n",
    "\n",
    "fig.add_layer(heat_layer)\n",
    "# Call the figure to plot the data.\n",
    "fig"
   ]
  },
  {
   "cell_type": "markdown",
   "id": "4dd10dc6",
   "metadata": {},
   "source": [
    "## Adding google maps markers hotel data\n",
    "https://jupyter-gmaps.readthedocs.io/en/latest/tutorial.html#markers-and-symbols\n",
    "\n",
    "`markers = gmaps.marker_layer(marker_locations)`, where the `marker_locations` are latitudes and longitudes"
   ]
  },
  {
   "cell_type": "code",
   "execution_count": 62,
   "id": "c0d400ce",
   "metadata": {
    "scrolled": false
   },
   "outputs": [
    {
     "data": {
      "application/vnd.jupyter.widget-view+json": {
       "model_id": "37fb7b3f09504840b240bb31d9b72766",
       "version_major": 2,
       "version_minor": 0
      },
      "text/plain": [
       "Figure(layout=FigureLayout(height='420px'))"
      ]
     },
     "metadata": {},
     "output_type": "display_data"
    }
   ],
   "source": [
    "# Add a heatmap of temperature for the vacation spots and marker for each city.\n",
    "locations = hotel_df[[\"Lat\", \"Lng\"]]\n",
    "max_temp = hotel_df[\"Max Temp\"]\n",
    "fig = gmaps.figure(center=(30.0, 31.0), zoom_level=1.5)\n",
    "heat_layer = gmaps.heatmap_layer(locations, weights=[max(temp, 0) for temp in max_temp],\n",
    "             dissipating=False, max_intensity=300, point_radius=4)\n",
    "marker_layer = gmaps.marker_layer(locations)\n",
    "fig.add_layer(heat_layer)\n",
    "fig.add_layer(marker_layer)\n",
    "# Call the figure to plot the data.\n",
    "fig"
   ]
  },
  {
   "cell_type": "markdown",
   "id": "a6ed8b66",
   "metadata": {},
   "source": [
    "### Add a pop-up marker for each city that displays the hotel name, city name, country, and maximum temperature.\n",
    "\n",
    "we need to add an `info_box_template` that has the following syntax\n",
    "\n",
    "`info_box_template = \"\"\"`\n",
    "\n",
    "`<dl>`\n",
    "\n",
    "`<dt>Name</dt><dd>{column1}</dd>`\n",
    "\n",
    "`<dt>Another name</dt><dd>{column2}</dd>`\n",
    "\n",
    "`</dl>`\n",
    "\n",
    "`\"\"\"`\n",
    "\n",
    "**First**, the `info_box_template` variable is assigned to a multiline string using three quotes. The text inside the multiline string is HTML code. HTML code is defined by the opening and closing the angular brackets (e.g., `<tag>` and `<tag/>`). Angular brackets always come in pairs. The opening angular bracket is followed by some text inside, such as `dl`, `dt`, and `dd`. The closing angular bracket is preceded by a forward-slash (\"/\"). The text inside with the angular brackets is called a **tag**. We'll see more examples of HTML code in an upcoming module.\n",
    "\n",
    "Here's what these tags mean:\n",
    "\n",
    "- The `<dl>` tag is a description list (dl).\n",
    "- The `<dt>` tag is a term or name in a description list that is nested under the `<dl>` tag.\n",
    "- The `<dd>` tag is used to define the term or name or `<dt>` tag.\n",
    "\n",
    "If we were to write out these tags on paper, it would look like this.\n",
    "\n",
    "- Description List: `<dl>`\n",
    "    - Description Term: `<dt>`\n",
    "        - Description Definition: `<dd>`\n",
    "    - Description Term: `<dt>`\n",
    "        - Description Definition: `<dd>`\n",
    "\n",
    "For our purposes, we'll add the hotel name, city name, country code, and the maximum temperature values from the `hotel_df` DataFrame as the description definition\n",
    "\n",
    "\n",
    "**Next**, add the data to the code by iterating through the `hotel_df` DataFrame using the `iterrows()` function. Then add the information to the `gmaps.marker_layer()` attribute with the locations.\n",
    "\n",
    "According to the documentation (https://jupyter-gmaps.readthedocs.io/en/latest/tutorial.html#markers-and-symbols), we can use this example to create the data for the `info_box_template`:\n",
    "\n",
    "From the documentation, we can take this code:\n",
    "\n",
    "`plant_info = [info_box_template.format(**plant) for plant in nuclear_power_plants]`\n",
    "\n",
    "Then edit this code by replacing \"`plant_info`\" with \"`hotel_info`,\" and then use the `iterrows()` function to get the index and data in the row to add to the marker."
   ]
  },
  {
   "cell_type": "code",
   "execution_count": 65,
   "id": "09fccc0e",
   "metadata": {},
   "outputs": [],
   "source": [
    "info_box_template = \"\"\"\n",
    "<dl>\n",
    "<dt>Hotel Name</dt><dd>{Hotel Name}</dd>\n",
    "<dt>City</dt><dd>{City}</dd>\n",
    "<dt>Country</dt><dd>{Country}</dd>\n",
    "<dt>Max Temp</dt><dd>{Max Temp} °F</dd>\n",
    "</dl>\n",
    "\"\"\"\n",
    "\n",
    "# Store the DataFrame Row.\n",
    "hotel_info = [info_box_template.format(**row) for index, row in hotel_df.iterrows()]"
   ]
  },
  {
   "cell_type": "markdown",
   "id": "7bb77347",
   "metadata": {},
   "source": [
    "### Let's review what we're doing with this code.\n",
    "\n",
    "1. We set the `hotel_info` equal to the `info_box_content`.\n",
    "2. In the list comprehension, `info_box_template.format(**row) for index, row in hotel_df.iterrows()`, we iterate through each \"row\" of the `hotel_df` DataFrame and then format the `info_box_template` with the data we set to populate the from each row. Remember, we are not using every row; we are only using the rows defined in the `info_box_template`, which are `Hotel Name`, `City`, `Country`, and `Max Temp`."
   ]
  },
  {
   "cell_type": "markdown",
   "id": "d9c68be7",
   "metadata": {},
   "source": [
    "### create the heatmap with markers\n",
    "\n",
    "add `info_box_content=hotel_info` to the `gmaps.marker_layer()` attribute with the locations. \n",
    "\n",
    "#### Our final cell should look like the following:"
   ]
  },
  {
   "cell_type": "code",
   "execution_count": 66,
   "id": "c5a83cf4",
   "metadata": {},
   "outputs": [
    {
     "data": {
      "application/vnd.jupyter.widget-view+json": {
       "model_id": "e85140f56d654f9db3328189f69a4dfe",
       "version_major": 2,
       "version_minor": 0
      },
      "text/plain": [
       "Figure(layout=FigureLayout(height='420px'))"
      ]
     },
     "metadata": {},
     "output_type": "display_data"
    }
   ],
   "source": [
    "# Add a heatmap of temperature for the vacation spots and a pop-up marker for each city.\n",
    "locations = hotel_df[[\"Lat\", \"Lng\"]]\n",
    "max_temp = hotel_df[\"Max Temp\"]\n",
    "fig = gmaps.figure(center=(30.0, 31.0), zoom_level=1.5)\n",
    "heat_layer = gmaps.heatmap_layer(locations, weights=[max(temp, 0) for temp in max_temp],dissipating=False,\n",
    "             max_intensity=300, point_radius=4)\n",
    "marker_layer = gmaps.marker_layer(locations, info_box_content=hotel_info)\n",
    "fig.add_layer(heat_layer)\n",
    "fig.add_layer(marker_layer)\n",
    "\n",
    "# Call the figure to plot the data.\n",
    "fig"
   ]
  },
  {
   "cell_type": "code",
   "execution_count": null,
   "id": "e922bb1d",
   "metadata": {},
   "outputs": [],
   "source": []
  }
 ],
 "metadata": {
  "kernelspec": {
   "display_name": "PythonData",
   "language": "python",
   "name": "pythondata"
  },
  "language_info": {
   "codemirror_mode": {
    "name": "ipython",
    "version": 3
   },
   "file_extension": ".py",
   "mimetype": "text/x-python",
   "name": "python",
   "nbconvert_exporter": "python",
   "pygments_lexer": "ipython3",
   "version": "3.8.5"
  }
 },
 "nbformat": 4,
 "nbformat_minor": 5
}
