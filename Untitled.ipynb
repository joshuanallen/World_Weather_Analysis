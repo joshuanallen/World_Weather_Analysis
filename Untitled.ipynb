{
 "cells": [
  {
   "cell_type": "code",
   "execution_count": 1,
   "metadata": {},
   "outputs": [
    {
     "data": {
      "text/plain": [
       "['/Users/joshuaallen/Documents/Boot_Camp/UCB_Projects/World_Weather_Analysis',\n",
       " '/Users/joshuaallen/opt/anaconda3/envs/PythonData/lib/python37.zip',\n",
       " '/Users/joshuaallen/opt/anaconda3/envs/PythonData/lib/python3.7',\n",
       " '/Users/joshuaallen/opt/anaconda3/envs/PythonData/lib/python3.7/lib-dynload',\n",
       " '',\n",
       " '/Users/joshuaallen/opt/anaconda3/envs/PythonData/lib/python3.7/site-packages',\n",
       " '/Users/joshuaallen/opt/anaconda3/envs/PythonData/lib/python3.7/site-packages/IPython/extensions',\n",
       " '/Users/joshuaallen/.ipython']"
      ]
     },
     "execution_count": 1,
     "metadata": {},
     "output_type": "execute_result"
    }
   ],
   "source": [
    "import sys;sys.path"
   ]
  },
  {
   "cell_type": "code",
   "execution_count": null,
   "metadata": {},
   "outputs": [],
   "source": [
    "# !pip install citipy"
   ]
  },
  {
   "cell_type": "code",
   "execution_count": 2,
   "metadata": {},
   "outputs": [],
   "source": [
    "from citipy import citipy"
   ]
  },
  {
   "cell_type": "code",
   "execution_count": null,
   "metadata": {},
   "outputs": [],
   "source": [
    "#!ls /Users/joshuaallen/opt/anaconda3/envs/PythonData/bin\n"
   ]
  }
 ],
 "metadata": {
  "kernelspec": {
   "display_name": "Python 3",
   "language": "python",
   "name": "python3"
  },
  "language_info": {
   "codemirror_mode": {
    "name": "ipython",
    "version": 3
   },
   "file_extension": ".py",
   "mimetype": "text/x-python",
   "name": "python",
   "nbconvert_exporter": "python",
   "pygments_lexer": "ipython3",
   "version": "3.7.10"
  }
 },
 "nbformat": 4,
 "nbformat_minor": 4
}
